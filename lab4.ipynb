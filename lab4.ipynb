{
 "cells": [
  {
   "cell_type": "markdown",
   "metadata": {},
   "source": [
    "## Laboratorio 04\n",
    "### Modelación y simulacion \n",
    "- Paola de León 20361\n",
    "- Gabriela Contreras 20213"
   ]
  },
  {
   "cell_type": "code",
   "execution_count": 1,
   "metadata": {},
   "outputs": [],
   "source": [
    "import numpy as np\n",
    "import random as rand\n",
    "from scipy.stats import norm"
   ]
  },
  {
   "cell_type": "markdown",
   "metadata": {},
   "source": [
    "#### Ejercicio 1"
   ]
  },
  {
   "cell_type": "code",
   "execution_count": 2,
   "metadata": {},
   "outputs": [
    {
     "name": "stdout",
     "output_type": "stream",
     "text": [
      "Prob. de que el jugador gane: 0.7928\n"
     ]
    }
   ],
   "source": [
    "ph = 200\n",
    "eh = 150\n",
    "N_sim = 10000\n",
    "Partidas = 100\n",
    "player_wins = 0\n",
    "\n",
    "#Funcion que simula comportamiento enemigo\n",
    "def enemy_behavior(turns,ph,eh):\n",
    "    player_health = ph\n",
    "    enemy_health = eh\n",
    "\n",
    "    for _ in range(turns):\n",
    "        player_attack = rand.randint(10, 30)\n",
    "        enemy_attack = rand.randint(20, 25)\n",
    "\n",
    "        player_health -= enemy_attack\n",
    "        enemy_health -= player_attack\n",
    "\n",
    "        if player_health <= 0 or enemy_health <= 0:\n",
    "            break\n",
    "\n",
    "    return player_health, enemy_health\n",
    "\n",
    "# Funcion que realiza monte carlo \n",
    "def monte_carlo_simulation(num_simulations, turns, pw, ph,eh):\n",
    "    player_wins = pw\n",
    "    \n",
    "    for _ in range(num_simulations):\n",
    "        player_health, enemy_health = enemy_behavior(turns,ph,eh)\n",
    "        if player_health > 0:\n",
    "            player_wins += 1\n",
    "\n",
    "    win_probability = player_wins / num_simulations\n",
    "    return win_probability\n",
    "\n",
    "\n",
    "\n",
    "winP = monte_carlo_simulation(N_sim, Partidas,player_wins,ph,eh)\n",
    "print(\"Prob. de que el jugador gane:\", winP)\n"
   ]
  },
  {
   "cell_type": "markdown",
   "metadata": {},
   "source": [
    "Al ir jugando un poco con los valores de health de los personajes y los ataques de los mismo pude observar que las probabilidades de que el jugador gane varian significativamente dependiendo del valor que se le modifique. Cabe destacar que si el jugador cuenta con menos vida que el enemigo la probabilidad es casi siempre de 0 lo cual me parecio interesante"
   ]
  },
  {
   "cell_type": "markdown",
   "metadata": {},
   "source": [
    "#### Ejercicio 2"
   ]
  },
  {
   "cell_type": "code",
   "execution_count": 3,
   "metadata": {},
   "outputs": [
    {
     "name": "stdout",
     "output_type": "stream",
     "text": [
      "Precio estimado: 38.121410292021466\n"
     ]
    }
   ],
   "source": [
    "T = 1\n",
    "S = 100\n",
    "K = 100\n",
    "r = 0.05\n",
    "sigma = 0.3\n",
    "N = norm.cdf\n",
    "N_sim = 10000\n",
    "\n",
    "# funcion realizada con ayuda de https://www.codearmo.com/python-tutorial/options-trading-black-scholes-model\n",
    "def black_scholes(S, K, T, r, sigma):\n",
    "    d1 = (np.log(S/K) + (r + sigma**2/2)*T) / (sigma*np.sqrt(T))\n",
    "    d2 = d1 - sigma * np.sqrt(T)\n",
    "    call = S * N(d1) - K * np.exp(-r*T)* N(d2)\n",
    "    return call\n",
    "\n",
    "# Funcion que realiza monte carlo \n",
    "def monte_carlo(num_simulations,S, K, T, r, sigma):\n",
    "    total_payoff = 0\n",
    "\n",
    "    for _ in range(num_simulations):\n",
    "        # Simular el movimiento browniano geométrico\n",
    "        z = np.random.standard_normal()\n",
    "        price_at_maturity = black_scholes(S, K, T, r, sigma)* z\n",
    "        \n",
    "        payoff = max(price_at_maturity - K, 0)\n",
    "        total_payoff += payoff\n",
    "\n",
    "    option_price = (total_payoff / num_simulations)\n",
    "    return option_price\n",
    "\n",
    "\n",
    "option_price = monte_carlo(S, K, T, r, sigma, N_sim)\n",
    "print(\"Precio estimado:\", option_price)"
   ]
  },
  {
   "cell_type": "markdown",
   "metadata": {},
   "source": [
    "#### Ejercicio 3"
   ]
  },
  {
   "cell_type": "code",
   "execution_count": 28,
   "metadata": {},
   "outputs": [
    {
     "name": "stdout",
     "output_type": "stream",
     "text": [
      "Riesgo estimado: 26.4795\n"
     ]
    }
   ],
   "source": [
    "N_sim = 10000\n",
    "ataques = {\n",
    "    'virus': {'probabilidad': 0.4, 'impacto': 35},\n",
    "    'malware': {'probabilidad': 0.2, 'impacto': 20},\n",
    "    'spyware': {'probabilidad': 0.2, 'impacto': 15},\n",
    "    'phishing': {'probabilidad': 0.3, 'impacto': 10},\n",
    "    'troyanos': {'probabilidad': 0.1, 'impacto': 30},\n",
    "}\n",
    "\n",
    "# Funcion que realiza monte carlo \n",
    "def monte_carlo_simulation(ataques, num_simulations):\n",
    "    total_risk = 0\n",
    "\n",
    "    for _ in range(num_simulations):\n",
    "        selected_events = [event for event in ataques if rand.random() < ataques[event][\"probabilidad\"]]\n",
    "        total_impact = sum(ataques[event][\"impacto\"] for event in selected_events)\n",
    "        total_risk += total_impact\n",
    "\n",
    "    average_risk = total_risk / num_simulations\n",
    "    return average_risk\n",
    "\n",
    "\n",
    "average_risk = monte_carlo_simulation(ataques, N_sim)\n",
    "print(\"Riesgo estimado:\", average_risk)\n"
   ]
  },
  {
   "cell_type": "markdown",
   "metadata": {},
   "source": [
    "Analice el impacto de diferentes probabilidades de ataques y pude observar que dependiendo de estas el riesgo de ataque pude aumentar o disminuir. Así mismo pude ver como es que al agregar mas tipos de ataques el riesgo aumenta independientemente del porcentaje que este nuevo ataque tenga"
   ]
  },
  {
   "cell_type": "markdown",
   "metadata": {},
   "source": [
    "#### Ejercico 4"
   ]
  },
  {
   "cell_type": "markdown",
   "metadata": {},
   "source": [
    "**Def Problema**\n",
    "- Simule el comportamiento de una plataforma de musica y estime la probabilidad de que alguien escuche un álbum en particular\n",
    "\n",
    "**Como me ayuda Monte Carlo**\n",
    "- Este me ayuda para poder simular el comportamiento de diferentes usuarios, así mismo porque existe variablididad en el comportamiento de los usuarios debido a los distintos gustos musicales ya que este modelo utiliza la aleatoridad es perfecto puesto a que no se puede predecir exactamente qué álbumes escogerá cada usuario."
   ]
  },
  {
   "cell_type": "code",
   "execution_count": 22,
   "metadata": {},
   "outputs": [
    {
     "name": "stdout",
     "output_type": "stream",
     "text": [
      "Probabilidad de reproducciones por álbum:\n",
      "->  Fearless 0.1439\n",
      "->  Speak now 0.1434\n",
      "->  1989 0.3525\n",
      "->  Reputation 0.2876\n",
      "->  Taylor Swift 0.0726\n"
     ]
    }
   ],
   "source": [
    "N_sim = 10000\n",
    "album = {\n",
    "    \"Fearless\": 0.2,\n",
    "    \"Speak now\": 0.2,\n",
    "    \"1989\": 0.5,\n",
    "    \"Reputation\": 0.4,\n",
    "    \"Taylor Swift\": 0.1,\n",
    "}\n",
    "\n",
    "def monte_Carlo(n_sim, album):\n",
    "    escuchado =  {a: 0 for a in album}\n",
    "\n",
    "    for _ in range(n_sim):\n",
    "        chosen_album = rand.choices(list(album.keys()), list(album.values()))[0]\n",
    "        escuchado[chosen_album] += 1\n",
    "    \n",
    "    for k in album:\n",
    "        escuchado[k] = escuchado[k] / n_sim\n",
    "\n",
    "    return escuchado\n",
    "\n",
    "prob_album = monte_Carlo(N_sim, album)\n",
    "print(\"Probabilidad de reproducciones por álbum:\")\n",
    "for k,v in prob_album.items():\n",
    "    print(\"-> \",k,v)\n",
    "    "
   ]
  }
 ],
 "metadata": {
  "kernelspec": {
   "display_name": "Python 3",
   "language": "python",
   "name": "python3"
  },
  "language_info": {
   "codemirror_mode": {
    "name": "ipython",
    "version": 3
   },
   "file_extension": ".py",
   "mimetype": "text/x-python",
   "name": "python",
   "nbconvert_exporter": "python",
   "pygments_lexer": "ipython3",
   "version": "3.11.2"
  },
  "orig_nbformat": 4
 },
 "nbformat": 4,
 "nbformat_minor": 2
}
